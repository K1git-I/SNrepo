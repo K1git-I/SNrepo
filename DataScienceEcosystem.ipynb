{
 "cells": [
  {
   "cell_type": "markdown",
   "id": "1742c277-edbb-42bd-a7aa-89f3f62ffdc2",
   "metadata": {},
   "source": [
    "#Data Science Tools and Ecosystem"
   ]
  },
  {
   "cell_type": "markdown",
   "id": "7234aaff-aca1-4afb-84e3-51b31b015f80",
   "metadata": {},
   "source": [
    "In this notebook, Data Science Tools and Ecosystems are summarized"
   ]
  },
  {
   "cell_type": "markdown",
   "id": "f184ba6b-12fe-4d32-bb79-788789fa25ae",
   "metadata": {},
   "source": [
    "**Objectives:**\n",
    " + List popular languages of data science\n",
    " + List some commonly used data science libraries\n",
    " + Execute some basic arithmetic expressions"
   ]
  },
  {
   "cell_type": "markdown",
   "id": "02c5218b-632a-45ca-acd2-fa74c0fbf047",
   "metadata": {},
   "source": [
    "Some popular languages of Data Science include:\n",
    "1. R\n",
    "2. Python\n",
    "3. SQL"
   ]
  },
  {
   "cell_type": "markdown",
   "id": "b9c740e5-2c95-43ad-8259-f75f5120784e",
   "metadata": {},
   "source": [
    "Some of the commonly used data science libraries include:\n",
    "1. Numpy\n",
    "2. Matplotlib\n",
    "3. GGplot\n",
    "4. Tensorflow"
   ]
  },
  {
   "cell_type": "markdown",
   "id": "ccaddfc7-b9bf-4ee1-9f7d-b33173b05fa9",
   "metadata": {},
   "source": [
    "Data Science Tools |\n",
    "-----\n",
    "Jupyter Notebook |\n",
    "Rstudio |\n",
    "Pandas |\n"
   ]
  },
  {
   "cell_type": "markdown",
   "id": "fabd61dd-5518-4a78-9fec-dc9d59545354",
   "metadata": {},
   "source": [
    "###Below are a few examples of evaluating arithmetic expressions in Python"
   ]
  },
  {
   "cell_type": "markdown",
   "id": "5c16309b-a253-4e29-a761-a6682f932532",
   "metadata": {},
   "source": [
    "This is a simple arithmetic expression to multiply then add integers"
   ]
  },
  {
   "cell_type": "code",
   "execution_count": 1,
   "id": "02f9cd8f-3df6-469e-b646-f13e2cfdedb3",
   "metadata": {
    "tags": []
   },
   "outputs": [
    {
     "data": {
      "text/plain": [
       "17"
      ]
     },
     "execution_count": 1,
     "metadata": {},
     "output_type": "execute_result"
    }
   ],
   "source": [
    "(3*4)+5"
   ]
  },
  {
   "cell_type": "markdown",
   "id": "ba03ada0-c4f5-4281-a202-0e3cf8a5ca9c",
   "metadata": {},
   "source": [
    "This will convert 200 minutes to hours by dividing by 60"
   ]
  },
  {
   "cell_type": "code",
   "execution_count": 4,
   "id": "0c9902d5-a292-46ed-b860-c5a22a135d36",
   "metadata": {
    "tags": []
   },
   "outputs": [],
   "source": [
    "M = 200"
   ]
  },
  {
   "cell_type": "code",
   "execution_count": 5,
   "id": "7bc0e775-a4ee-4723-b138-43d9795c2f8f",
   "metadata": {
    "tags": []
   },
   "outputs": [
    {
     "name": "stdout",
     "output_type": "stream",
     "text": [
      "3.3333333333333335\n"
     ]
    }
   ],
   "source": [
    "H = M/60\n",
    "print(H)"
   ]
  },
  {
   "cell_type": "markdown",
   "id": "630e2ffe-d052-47c5-94a2-e89b1ae0bb91",
   "metadata": {},
   "source": [
    "##Author"
   ]
  },
  {
   "cell_type": "markdown",
   "id": "9340ea55-ca8e-4153-a0b5-6aababe86c86",
   "metadata": {},
   "source": [
    "Kester Iwunze"
   ]
  },
  {
   "cell_type": "code",
   "execution_count": null,
   "id": "6ea5be83-9ecb-4ad2-acd1-90a0a8f02669",
   "metadata": {},
   "outputs": [],
   "source": []
  }
 ],
 "metadata": {
  "kernelspec": {
   "display_name": "Python",
   "language": "python",
   "name": "conda-env-python-py"
  },
  "language_info": {
   "codemirror_mode": {
    "name": "ipython",
    "version": 3
   },
   "file_extension": ".py",
   "mimetype": "text/x-python",
   "name": "python",
   "nbconvert_exporter": "python",
   "pygments_lexer": "ipython3",
   "version": "3.7.12"
  }
 },
 "nbformat": 4,
 "nbformat_minor": 5
}
